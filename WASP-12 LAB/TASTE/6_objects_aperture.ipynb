{
 "cells": [
  {
   "cell_type": "markdown",
   "id": "b9b8219d-114d-47f3-921e-ff0a4ec37e75",
   "metadata": {},
   "source": [
    "# Classes"
   ]
  },
  {
   "cell_type": "code",
   "execution_count": 1,
   "id": "22d23589-def0-4508-9ca8-bc42f2a32e82",
   "metadata": {
    "tags": []
   },
   "outputs": [],
   "source": [
    "import numpy as np\n",
    "import matplotlib.pyplot as plt \n",
    "import matplotlib.colors as colors\n",
    "import pickle\n",
    "from astropy.io import fits \n",
    "%matplotlib widget \n"
   ]
  },
  {
   "cell_type": "markdown",
   "id": "0398974f-9370-490c-b30f-c3f49562abd4",
   "metadata": {},
   "source": [
    "[Link to Python Class documentation](https://docs.python.org/3/tutorial/classes.html)\n",
    "\n",
    "When to use a class:\n",
    "1) you want to define several functions to perform a specific task, and you want to repeatedly use these functions in a self-consistent way.\n",
    "2) your functions use shared parameters; you want each function to use the same values every time.\n",
    "3) you want to use these functions and these variables in different Jupyter notebooks without rewriting them every time - and avoiding dangerous copying & pasting.\n",
    "4) if you spot an error in your data analysis, you only need to fix the error in one place and rerun all the analysis (also on a different Jupyter notebook) by just recalling the updated class.\n"
   ]
  },
  {
   "cell_type": "markdown",
   "id": "2f5191a1-e5c7-4fc0-8fc4-10940312d8fb",
   "metadata": {},
   "source": [
    "## Class definition syntax\n",
    "\n",
    "```python\n",
    "class ClassName:\n",
    "    <statement 1>\n",
    "    <statement 2>\n",
    "    ...\n",
    "    <statement N>\n",
    "```\n",
    "\n",
    "## Class objects\n",
    "\n",
    "Class objects support two kinds of operations: attribute references and instantiation.\n",
    "\n",
    "*Attribute references* use the standard syntax as for all attribute references in Python: `obj.name`. Let's take this example:"
   ]
  },
  {
   "cell_type": "code",
   "execution_count": 2,
   "id": "b3878734-b0ea-494a-9ce0-d61ad205d5fb",
   "metadata": {
    "tags": []
   },
   "outputs": [],
   "source": [
    "class MyClass:\n",
    "    \"\"\"A simple example class\"\"\"\n",
    "    internal_variable = 12345\n",
    "\n",
    "    def print_hello(self):\n",
    "        return 'hello world'"
   ]
  },
  {
   "cell_type": "markdown",
   "id": "7b0538c4-a97a-4fe9-97aa-2254f1cbde4b",
   "metadata": {},
   "source": [
    "You can retrieve the value of `internal_variable` and use the function `print_hello` directly by calling the class:"
   ]
  },
  {
   "cell_type": "code",
   "execution_count": 3,
   "id": "f332d689-bc91-4fe0-bfb7-5a4581902952",
   "metadata": {
    "tags": []
   },
   "outputs": [
    {
     "name": "stdout",
     "output_type": "stream",
     "text": [
      "12345\n"
     ]
    },
    {
     "data": {
      "text/plain": [
       "'hello world'"
      ]
     },
     "execution_count": 3,
     "metadata": {},
     "output_type": "execute_result"
    }
   ],
   "source": [
    "print(MyClass.internal_variable)\n",
    "MyClass.print_hello(MyClass)"
   ]
  },
  {
   "cell_type": "markdown",
   "id": "5457f42e-40c9-40d8-bc92-fad992fd95a0",
   "metadata": {},
   "source": [
    "Notice the argument `self` of the class: it means that the function requires the class itself as an argument. \n",
    "\n",
    "*Class instantiation* uses function notation. \n",
    "The example below creates a new instance of the class and assigns this object to the local variable `first_class`. The same action is repeated using the variable `second_class`."
   ]
  },
  {
   "cell_type": "code",
   "execution_count": 4,
   "id": "e8627e2b-d667-4d61-aee0-afb0fa49f2c9",
   "metadata": {
    "tags": []
   },
   "outputs": [],
   "source": [
    "first_class = MyClass()\n",
    "second_class = MyClass()"
   ]
  },
  {
   "cell_type": "markdown",
   "id": "383f72f0-7a1d-4143-9ae9-31bfcd16c6cb",
   "metadata": {},
   "source": [
    "This action is called **class instantiation**. \\\n",
    "We have created two Python objects, called `first_class` and `second_class`, which will have all the attributes and functions of the original class but will work independently. For example, we can change the value of the `internal_variable` of one of the two objects without affecting the other:"
   ]
  },
  {
   "cell_type": "code",
   "execution_count": 5,
   "id": "96a5cba6-bd84-43a6-b6ac-da5d928acdd0",
   "metadata": {
    "tags": []
   },
   "outputs": [
    {
     "name": "stdout",
     "output_type": "stream",
     "text": [
      "first_class internal variable value: 12345\n",
      "second_class internal variable value: 67890\n"
     ]
    }
   ],
   "source": [
    "second_class.internal_variable = 67890\n",
    "print('first_class internal variable value:', first_class.internal_variable)\n",
    "print('second_class internal variable value:', second_class.internal_variable)"
   ]
  },
  {
   "cell_type": "markdown",
   "id": "7ffa33f6-304a-49ee-8671-50cef82e1538",
   "metadata": {},
   "source": [
    "A variable inside a class takes the name of **data attribute** or simply **attribute**\n",
    "A function defined inside a class takes the name of **method**\n",
    "\n",
    "When calling a method of an instance object, you don't need to specify the `self` argument anymore, as the class will know to *take itself* as an argument:"
   ]
  },
  {
   "cell_type": "code",
   "execution_count": 6,
   "id": "8accbfa6-a9ed-47be-8b12-5ce944cc7652",
   "metadata": {
    "tags": []
   },
   "outputs": [
    {
     "name": "stdout",
     "output_type": "stream",
     "text": [
      "running class method form the instance object:\n"
     ]
    },
    {
     "data": {
      "text/plain": [
       "'hello world'"
      ]
     },
     "execution_count": 6,
     "metadata": {},
     "output_type": "execute_result"
    }
   ],
   "source": [
    "print('running class method form the instance object:')\n",
    "second_class.print_hello()\n"
   ]
  },
  {
   "cell_type": "markdown",
   "id": "b57b90c7-922d-49e9-9caa-76957d2f07bf",
   "metadata": {},
   "source": [
    "## Class initialization\n",
    "Classes support a special kind of method that is automatically called every time you create a new class instance. This *initialization* method is defined by the name `__init__`\n",
    "\n",
    "Let's analyze this example:"
   ]
  },
  {
   "cell_type": "code",
   "execution_count": 7,
   "id": "1a64efd9-11af-4124-aa5a-89a62db8f82a",
   "metadata": {},
   "outputs": [],
   "source": [
    "class MySecondClass:\n",
    "    def __init__(self, x_input, y_input):\n",
    "        self.x_pos = x_input\n",
    "        self.y_pos = y_input"
   ]
  },
  {
   "cell_type": "markdown",
   "id": "8b105c5d-f4e9-42ce-bc88-3d33e956dc73",
   "metadata": {},
   "source": [
    "When creating a new object using our class, the `__init__` method is automatically invoked. \\\n",
    "In this example, `__init__` requires two arguments other than the `self` one, so we have to provide them when doing *class instantiation* to avoid an error: "
   ]
  },
  {
   "cell_type": "code",
   "execution_count": 8,
   "id": "6d486570-8e8b-41c8-b065-f5d8cadc754d",
   "metadata": {
    "tags": []
   },
   "outputs": [
    {
     "name": "stdout",
     "output_type": "stream",
     "text": [
      "wrong class instantiation\n"
     ]
    },
    {
     "ename": "TypeError",
     "evalue": "__init__() missing 2 required positional arguments: 'x_input' and 'y_input'",
     "output_type": "error",
     "traceback": [
      "\u001b[0;31m---------------------------------------------------------------------------\u001b[0m",
      "\u001b[0;31mTypeError\u001b[0m                                 Traceback (most recent call last)",
      "Cell \u001b[0;32mIn[8], line 2\u001b[0m\n\u001b[1;32m      1\u001b[0m \u001b[38;5;28mprint\u001b[39m(\u001b[38;5;124m'\u001b[39m\u001b[38;5;124mwrong class instantiation\u001b[39m\u001b[38;5;124m'\u001b[39m)\n\u001b[0;32m----> 2\u001b[0m new_class \u001b[38;5;241m=\u001b[39m \u001b[43mMySecondClass\u001b[49m\u001b[43m(\u001b[49m\u001b[43m)\u001b[49m\n",
      "\u001b[0;31mTypeError\u001b[0m: __init__() missing 2 required positional arguments: 'x_input' and 'y_input'"
     ]
    }
   ],
   "source": [
    "print('wrong class instantiation')\n",
    "new_class = MySecondClass()"
   ]
  },
  {
   "cell_type": "code",
   "execution_count": 9,
   "id": "25ce26a2-9771-4513-8b6b-99445e878a15",
   "metadata": {
    "tags": []
   },
   "outputs": [
    {
     "name": "stdout",
     "output_type": "stream",
     "text": [
      "correct class instantiation (no output error)\n"
     ]
    }
   ],
   "source": [
    "print('correct class instantiation (no output error)')\n",
    "new_class = MySecondClass(258, 76)"
   ]
  },
  {
   "cell_type": "markdown",
   "id": "5b757c1a-19cf-44a1-a1eb-b757751bd9df",
   "metadata": {},
   "source": [
    "The two arguments `x_input, y_input` are now saved as attributes of the class `self.x_pos, self.y_pos`. Mind the difference: \n",
    "1) When defining a new method, you can recall these attributes using the `self.` appendix. \n",
    "2) When calling the attributes from an instance object, you call them directly using the name of the object\n",
    "\n",
    "If you change the class, you must do a new instance, as in the example below."
   ]
  },
  {
   "cell_type": "code",
   "execution_count": 12,
   "id": "683e83c1-7a1a-42e0-9f48-2f22939d4fab",
   "metadata": {
    "tags": []
   },
   "outputs": [
    {
     "name": "stdout",
     "output_type": "stream",
     "text": [
      "attributes called from a class method 258 76\n",
      "attributes called from instance object: 258 76\n"
     ]
    }
   ],
   "source": [
    "class MySecondClass:\n",
    "    def __init__(self, x_input, y_input):\n",
    "        self.x_pos = x_input\n",
    "        self.y_pos = y_input\n",
    "    def print_positon(self):\n",
    "        print('attributes called from a class method', self.x_pos, self.y_pos)\n",
    "    def change_position(self, x_new, y_new): \n",
    "        self.x_pos = x_new\n",
    "        self.y_pos = y_new\n",
    "        \n",
    "new_class =  MySecondClass(258, 76)\n",
    "new_class.print_positon()\n",
    "\n",
    "print('attributes called from instance object:', new_class.x_pos, new_class.y_pos )"
   ]
  },
  {
   "cell_type": "markdown",
   "id": "980cfe13-76bd-4da7-bd81-2aef96b9f255",
   "metadata": {},
   "source": [
    "You can write a method to change one or more attributes. \n",
    "In order to work, the method must get `self` as the argument, and the attributes to be changed must be referenced as `self.`\n",
    "\n",
    "```python\n",
    "class MySecondClass:\n",
    "\n",
    "    def change_position(self, x_new, y_new): \n",
    "        self.x_pos = x_new\n",
    "        self.y_pos = y_new\n",
    "```\n",
    "\n",
    "For example, defining the method like in the example below would not change anything inside the instance object, and it would throw an error when the method is called:\n",
    "```python\n",
    "class WrongClass:\n",
    "    ...\n",
    "    def wrong_method(x_new, y_new): \n",
    "        x_pos = x_new\n",
    "        y_pos = y_new\n",
    "```\n",
    "\n",
    "All the methods called after the `change_position` method will use the updated values for `self.x_pos` and `self_y_pos`:"
   ]
  },
  {
   "cell_type": "code",
   "execution_count": 13,
   "id": "c9f397e0-0a8f-4d31-94c4-9302d03db6b2",
   "metadata": {
    "tags": []
   },
   "outputs": [
    {
     "name": "stdout",
     "output_type": "stream",
     "text": [
      "attributes called from a class method 258 76\n",
      "attributes called from a class method 789 123\n"
     ]
    }
   ],
   "source": [
    "new_class.print_positon()\n",
    "new_class.change_position(789, 123)\n",
    "new_class.print_positon()\n"
   ]
  },
  {
   "cell_type": "markdown",
   "id": "c9995772-418c-4feb-adb2-d569a9381309",
   "metadata": {},
   "source": [
    "As in the example below, you can change an attribute without going through a method. \\\n",
    "All the methods called after the change will use the updated value:"
   ]
  },
  {
   "cell_type": "code",
   "execution_count": 14,
   "id": "aa41de57-6792-43a0-9c60-64e0a168629b",
   "metadata": {
    "tags": []
   },
   "outputs": [
    {
     "name": "stdout",
     "output_type": "stream",
     "text": [
      "attributes called from a class method 456 123\n"
     ]
    }
   ],
   "source": [
    "new_class.x_pos = 456\n",
    "new_class.print_positon()\n"
   ]
  },
  {
   "cell_type": "markdown",
   "id": "4834ff14-898d-4c68-9376-9e4b8491d600",
   "metadata": {
    "tags": []
   },
   "source": [
    "# Practical example: aperture photometry\n",
    "\n",
    "Let's make our Class to perform aperture photometry with different apertures and on several stars effortlessly. \n",
    "\n",
    "**Note** in the following I will use this notation: \n",
    "- Missing parts `... fill ` must be filled by you \n",
    "- Skipped parts `... skipped`  have already been explained early, they have been removed for the sake of readability \n",
    "\n",
    "### Initialization\n",
    "As this is a work in progress, we will call our class `TemporaryAperturePhotometry` for now.  We initialize our class by providing some constants that will be the same regardless of the star under analysis. Keep in mind that you can always change these attributes if you run the analysis on a different folder. "
   ]
  },
  {
   "cell_type": "code",
   "execution_count": 23,
   "id": "0053a5a4-98e3-4dbd-a814-4623606711e8",
   "metadata": {},
   "outputs": [],
   "source": [
    "class TemporaryAperturePhotometry:\n",
    "    def __init__(self):\n",
    "        #self.data_path = './data/'\n",
    "        \n",
    "        self.readout_noise = 7.4  # [e] photoelectrons\n",
    "        self.gain = 1.91 # [e/ADU]\n",
    "        \n",
    "        self.bias_std = 1.3 # [e] photoelectrons\n",
    "        self.median_bias = pickle.load(open('output_files/median_bias.p', 'rb'))\n",
    "        self.median_bias_errors = pickle.load(open('output_files/median_bias_error.p', 'rb'))\n",
    "        # put the value here if you decided to use a constant value\n",
    "        self.median_normalized_flat = pickle.load(open('output_files/median_normalized_flat.p', 'rb'))\n",
    "        self.median_normalized_flat_errors = pickle.load(open('output_files/median_normalized_flat_errors.p', 'rb'))\n",
    "        \n",
    "        self.science_path = '../data/'\n",
    "        self.science_list = np.genfromtxt(self.science_path + 'data.list', dtype=str)\n",
    "        self.science_size = len(self.science_list)\n",
    "        \n",
    "        ylen, xlen  = np.shape(self.median_bias)\n",
    "        X_axis = np.arange(0, xlen, 1)\n",
    "        Y_axis = np.arange(0, ylen, 1)\n",
    "        self.X, self.Y = np.meshgrid(X_axis, Y_axis)\n"
   ]
  },
  {
   "cell_type": "code",
   "execution_count": 24,
   "id": "9e2c1eba-e67d-4916-8a14-5c6c6e820d31",
   "metadata": {},
   "outputs": [
    {
     "name": "stdout",
     "output_type": "stream",
     "text": [
      "['AF578220.fits' 'AF578221.fits' 'AF578222.fits' 'AF578223.fits'\n",
      " 'AF578224.fits' 'AF578225.fits' 'AF578226.fits' 'AF578227.fits'\n",
      " 'AF578228.fits' 'AF578229.fits' 'AF578230.fits' 'AF578231.fits'\n",
      " 'AF578232.fits' 'AF578233.fits' 'AF578234.fits' 'AF578235.fits'\n",
      " 'AF578236.fits' 'AF578237.fits' 'AF578238.fits' 'AF578239.fits']\n"
     ]
    }
   ],
   "source": [
    "target_star = TemporaryAperturePhotometry()\n",
    "print(target_star.science_list[:20])"
   ]
  },
  {
   "cell_type": "markdown",
   "id": "8c17b31a-3241-499c-a46a-1bf2c07a483a",
   "metadata": {},
   "source": [
    "Since the calibration files and the science files have the same size, we can define here the meshgrid arrays used later on to compute the distance of each pixel from our star. \n",
    "\n",
    "```python\n",
    "class TemporaryAperturePhotometry:\n",
    "    def __init__(self):\n",
    "        ... skipped\n",
    "        ylen, xlen  = np.shape(self.median_bias)\n",
    "        X_axis = np.arange(0, xlen, 1)\n",
    "        Y_axis = np.arange(0, ylen, 1)\n",
    "        self.X, self.Y = np.meshgrid(X_axis, Y_axis)\n",
    "```\n",
    "In this example, I decided to store as attributes of the class only the meshgrid arrays, and not the intermediate steps required for their computation.\n"
   ]
  },
  {
   "cell_type": "markdown",
   "id": "ba65338c-494c-4406-8c71-dd91193ca447",
   "metadata": {},
   "source": [
    "### Defining our `aperture_photometry` method\n",
    "After checking that our class is loading the necessary ingredients to correct the science frame, we start building our aperture_photometry. \n",
    "For now, it's just an empty function. \n",
    "```python \n",
    "\tdef aperture_photometry(self):\n",
    "```\n",
    "We will fill this function with all the operations we have done during the previous lectures. Be sure you performed all these operations correctly!\n",
    "\n",
    "To start, open the Jupiter notebook dedicated to correcting the science frame. You can see that we iterated over the science list, opening a new frame at each iteration. We can do the same here, this time using the function `enumerate` to get the image index\n",
    "\n",
    "```python\n",
    "class TemporaryAperturePhotometry:\n",
    "    def __init__(self):\n",
    "        self.data_path = './group00_HAT-P-44_20210413/'\n",
    "        ... skipped\n",
    "    \n",
    "    def aperture_photometry(self):\n",
    "        for ii_science, science_name in enumerate(self.science_list):\n",
    "            science_fits = fits.open(self.science_path + science_name)\n",
    "            science_data = science_fits[0].data * self.gain # save the data from the first HDU \n",
    "            science_fits.close()\n",
    "```"
   ]
  },
  {
   "cell_type": "code",
   "execution_count": 27,
   "id": "830bd76b",
   "metadata": {},
   "outputs": [],
   "source": [
    "class TemporaryAperturePhotometry:\n",
    "    def __init__(self):\n",
    "        #self.data_path = './data/'\n",
    "        \n",
    "        self.readout_noise = 7.4  # [e] photoelectrons\n",
    "        self.gain = 1.91 # [e/ADU]\n",
    "        \n",
    "        self.bias_std = 1.3 # [e] photoelectrons\n",
    "        self.median_bias = pickle.load(open('output_files/median_bias.p', 'rb'))\n",
    "        self.median_bias_errors = pickle.load(open('output_files/median_bias_error.p', 'rb'))\n",
    "        # put the value here if you decided to use a constant value\n",
    "        self.median_normalized_flat = pickle.load(open('output_files/median_normalized_flat.p', 'rb'))\n",
    "        self.median_normalized_flat_errors = pickle.load(open('output_files/median_normalized_flat_errors.p', 'rb'))\n",
    "        \n",
    "        self.science_path = '../data/'\n",
    "        self.science_list = np.genfromtxt(self.science_path + 'data.list', dtype=str)\n",
    "        self.science_size = len(self.science_list)\n",
    "        \n",
    "        ylen, xlen  = np.shape(self.median_bias)\n",
    "        X_axis = np.arange(0, xlen, 1)\n",
    "        Y_axis = np.arange(0, ylen, 1)\n",
    "        self.X, self.Y = np.meshgrid(X_axis, Y_axis)\n",
    "\n",
    "    def aperture_photometry(self):\n",
    "        self.airmass = np.empty(self.science_size)\n",
    "        self.exptime = np.empty(self.science_size)\n",
    "        self.julian_date = np.empty(self.science_size)\n",
    "        \n",
    "        for ii_science, science_name in enumerate(self.science_list):\n",
    "            science_fits = fits.open(self.science_path + science_name)\n",
    "            science_data = science_fits[0].data * self.gain # save the data from the first HDU \n",
    "            science_fits.close()"
   ]
  },
  {
   "cell_type": "markdown",
   "id": "a6337340-b3b6-41d7-a613-3d231fcf0ea4",
   "metadata": {
    "tags": []
   },
   "source": [
    "### Extracting information from the header\n",
    "Since we are already opening our science fits file, this is an excellent moment to retrieve and store helpful information from the header. \n",
    "You have to perform two steps to save your output correctly:\n",
    "1) *outside* the iterative `for` cycle, you have to create an empty array with a size equal to the number of images for *each* information you want to retrieve from the header \n",
    "2) *inside* the cycle, you have to save the values extracted from the `ii_science`-th  frame in the corresponding position inside the array \n",
    "Note that you have to read the header *before* closing the fits file\n",
    "Remeber to store the information as *class attributes*, by anteponing `self.` to the name of the variable\n",
    "\n",
    "```python\n",
    "    def aperture_photometry(self):\n",
    "        self.airmass = np.empty(self.science_size)\n",
    "        self.exptime = np.empty(self.science_size)\n",
    "        self.julian_date = np.empty(self.science_size)\n",
    "        \n",
    "        for ii_science, science_name in enumerate(self.science_list):\n",
    "            science_fits = fits.open(self.science_path + science_name)\n",
    "            \n",
    "            #You must read the info from the header before closing the file\n",
    "            self.airmass[ii_science] = science_fits[0].header['AIRMASS']\n",
    "            self.exptime[ii_science] = science_fits[0].header['EXPTIME']\n",
    "            self.julian_date[ii_science] = science_fits[0].header['JD']\n",
    "            \n",
    "            science_data = science_fits[0].data * self.gain # save the data from the first HDU \n",
    "            science_fits.close()\n",
    "```"
   ]
  },
  {
   "cell_type": "markdown",
   "id": "75f9335e-6978-4ed7-95b0-7debde388aea",
   "metadata": {},
   "source": [
    "### Correcting the raw science frame for bias and flat\n",
    "Let's define a method that takes the raw science frame in input and gives the corrected science frame and the associated errors in output. \\\n",
    "\n",
    "1) define the method inside the class:\n",
    "```python\n",
    "    def correct_science_frame(self, science_frame):\n",
    "        science_debiased = science_data - self.median_bias\n",
    "        science_corrected = science_debiased / self.median_normalized_flat\n",
    "\n",
    "        ## Error associated to the science corrected frame\n",
    "        science_debiased_errors = ... fill\n",
    "        science_corrected_errors = ... fill\n",
    "\n",
    "        return science_corrected, science_corrected_errors\n",
    "```\n",
    "    \n",
    "2) open the Jupyter notebook where you performed the science correction, and copy the commands to correct the science frame for bias and flat. \n",
    "\n",
    "```python\n",
    "    def correct_science_frame(self, science_frame):\n",
    "        science_debiased = science_frame - self.median_bias\n",
    "        science_corrected = science_debiased / self.median_normalized_flat\n",
    "\n",
    "        ## Error associated to the science corrected frame\n",
    "        science_debiased_errors = ... fill\n",
    "        science_corrected_errors = ... fill\n",
    "\n",
    "        return science_corrected, science_corrected_errors\n",
    "```\n",
    "\n",
    "3) remeber to add the `self.` appendix whenever necessary!!\n",
    "\n",
    "When the method `correct_science_frame` is ready, remeber to call it from inside the `aperture_photometry` method:\n",
    "```python\n",
    "    def aperture_photometry(self, science_frame):\n",
    "    ... skipped\n",
    "        for ii_science, science_name in enumerate(self.science_list):\n",
    "            ... skipped\n",
    "            science_data = science_fits[0].data * self.gain \n",
    "            # save the data from the first HDU \n",
    "            science_fits.close()\n",
    "            \n",
    "            science_corrected, science_corrected_errors = \\                  \n",
    "            self.correct_science_frame(science_data)\n",
    "    \n",
    "```\n",
    "\n",
    "Inside the class, the ordering of the function is *not* relevant."
   ]
  },
  {
   "cell_type": "markdown",
   "id": "34131ab5-314b-4497-a090-365f6d3118a4",
   "metadata": {},
   "source": [
    "### Defining the sky inner radius, sky outer radius, aperture photometry\n",
    "Before computing the centroid and performing aperture photometry, we need to provide the following:\n",
    "1) the `sky_inner_radius` and `sky_outer_radius` to define the annulus for the measurement of the sky background;\n",
    "2) the `sky_inner_radius` can be used to define the maximum radius for the centroid measurement;\n",
    "3) the `aperture_radius` for the aperture photometry\n",
    "4) an initial guess for the position of the star, `x_initial` and `y_initial`\n",
    "We can make a new method to store these values as attributes of the object, or provide them as arguments of our `aperture_photometry` function. Each method will work equally well.\n",
    "\n",
    "First approach (ised for the rest of this notebook):\n",
    "```python\n",
    "def provide_aperture_parameters(self, sky_inner_radius, sky_outer_radius, aperture_radius, x_initial, y_initial):\n",
    "    self.sky_inner_radius = sky_inner_radius \n",
    "    self.sky_outer_radius = sky_outer_radius \n",
    "    self.aperture_radius = aperture_radius \n",
    "    self.x_initial = x_initial\n",
    "    self.y_initial = y_initial\n",
    "```\n",
    "\n",
    "Second approach:\n",
    "```python\n",
    "def aperture_photometry(self, sky_inner_radius, sky_outer_radius, aperture_radius, x_initial, y_initial):\n",
    "    self.sky_inner_radius = sky_inner_radius \n",
    "    self.sky_outer_radius = sky_outer_radius \n",
    "    self.aperture_radius = aperture_radius \n",
    "    ... skipping\n",
    "```\n"
   ]
  },
  {
   "cell_type": "markdown",
   "id": "2ff00f39-5e45-44ee-90c8-f169969b24bf",
   "metadata": {},
   "source": [
    "### Incorporating the centroid algorithm\n",
    "1) Take the algorithm to compute the centroid posiiton (e.g., the one with the maximum numbe rof iterations) and encapsulate it inside a method, without forgetting the `self` argument\n",
    "2) yo have to rpovide the scinece frame in input (as an argument), so you can repeat the calculation after subtracting the sky background\n",
    "2) You can provide the maximum number of iterations `maximum_number_of_iterations` as an argument, with a default value\n",
    "3) The method must provide in output the refined coordinates of the senter"
   ]
  },
  {
   "cell_type": "markdown",
   "id": "56ff88c9-3f1c-4116-9c38-4e89eb72b604",
   "metadata": {},
   "source": [
    "```python\n",
    "    def compute_centroid(self, science_frame, x_target_initial, y_target_initial, maximum_number_of_iterations=20)\n",
    "\n",
    "        for i_iter in range(0, maximum_number_of_iterations):\n",
    "\n",
    "            if i_iter == 0:\n",
    "                # first iteration\n",
    "                x_target_previous = x_target_initial\n",
    "                y_target_previous = y_target_initial\n",
    "            else:\n",
    "                # using the previous result as starting point\n",
    "                x_target_previous = x_target_refined\n",
    "                y_target_previous = y_target_refined\n",
    "\n",
    "            # 2D array with the distance of each pixel from the target star \n",
    "            target_distance = np.sqrt((self.X-x_target_previous)**2 + (self.Y-y_target_previous)**2)\n",
    "\n",
    "            # Selection of the pixels within the inner radius\n",
    "            annulus_sel = (target_distance < self.sky_inner_radius)\n",
    "\n",
    "            # Weighted sum of coordinates\n",
    "            weighted_X = np.sum(science_frame[annulus_sel]*self.X[annulus_sel])\n",
    "            weighted_Y = np.sum(science_frame[annulus_sel]*self.Y[annulus_sel])\n",
    "\n",
    "            # Sum of the weights\n",
    "            total_flux = np.sum(science_frame[annulus_sel])\n",
    "\n",
    "            # Refined determination of coordinates\n",
    "            x_target_refined = weighted_X/total_flux\n",
    "            y_target_refined = weighted_Y/total_flux\n",
    "\n",
    "            percent_variance_x = (x_target_refined-x_target_previous)/(x_target_previous) * 100.\n",
    "            percent_variance_y = (y_target_refined-y_target_previous)/(y_target_previous) * 100.\n",
    "            # exit condition: both percent variance are smaller than 0.1%\n",
    "            if np.abs(percent_variance_x)<0.1 and  np.abs(percent_variance_y)<0.1:\n",
    "                  break\n",
    "\n",
    "        return x_target_refined, y_target_refined\n",
    "```"
   ]
  },
  {
   "cell_type": "markdown",
   "id": "bc761683-a85f-4275-b2f0-48089d757694",
   "metadata": {},
   "source": [
    "### Computing the sky background\n",
    "Again, incorporate the sky background computation inside a function, following the same steps seen together during the lecture\n",
    "\n",
    "```python\n",
    "    def compute_sky_background(self, science_frame, x_pos, y_pos):\n",
    "        target_distance = np.sqrt((self.X-x_pos)**2 + (self.Y-y_pos)**2)\n",
    "\n",
    "        annulus_selection = (target_distance > self.sky_inner_radius) & (target_distance<=self.sky_outer_radius)\n",
    "\n",
    "        sky_flux_average = np.sum(science_frame[annulus_selection]) / np.sum(annulus_selection)\n",
    "        sky_flux_median = np.median(science_frame[annulus_selection])\n",
    "        return sky_flux_average, sky_flux_error\n",
    "```"
   ]
  },
  {
   "cell_type": "markdown",
   "id": "9456e80c-41ee-4b47-95fb-1ce78c21f968",
   "metadata": {
    "tags": []
   },
   "source": [
    "### Aperture photometry\n",
    "\n",
    "Final step is the computation of the aperture photometry, - last three lines of this example\n",
    "\n",
    "```python\n",
    "    ... skipped\n",
    "    def aperture_photometry(self):\n",
    "        self.airmass = np.empty(self.science_size)\n",
    "        self.exptime = np.empty(self.science_size)\n",
    "        self.julian_date = np.empty(self.science_size)\n",
    "        \n",
    "        self.aperture = np.empty(self.science_size)\n",
    "        self.aperture_errors = np.empty(self.science_size)\n",
    "        self.sky_background = np.empty(self.science_size)\n",
    "        self.sky_background_errors = np.empty(self.science_size)\n",
    "        \n",
    "        for ii_science, science_name in enumerate(self.science_list):\n",
    "            ... skipped\n",
    "\n",
    "            self.sky_background[ii_science], sky_background_errors[ii_science] = \\\n",
    "                self.compute_sky_background(science_corrected, x_refined, y_refined)\n",
    "\n",
    "            science_sky_corrected = science_corrected- self.sky_background[ii_science]\n",
    "            ... fill: error associated with science_sky_corrected\n",
    "            \n",
    "            x_refined, y_refined = self.compute_centroid(science_sky_corrected,  x_refined, y_refined)\n",
    "\n",
    "            target_distance = np.sqrt((self.X-x_refined)**2 + (self.Y-y_refined)**2)\n",
    "            aperture_selection = (target_distance < self.aperture_radius)\n",
    "            self.aperture[ii_science] =  np.sum(science_sky_corrected[aperture_selection])\n",
    "            ... fill: error associated with the aperture photometry\n",
    "\n",
    "            \n",
    "```"
   ]
  },
  {
   "cell_type": "code",
   "execution_count": 36,
   "id": "54e4f546",
   "metadata": {},
   "outputs": [],
   "source": [
    "class TemporaryAperturePhotometry:\n",
    "    def __init__(self):\n",
    "        #self.data_path = './data/'\n",
    "        \n",
    "        self.readout_noise = 7.4  # [e] photoelectrons\n",
    "        self.gain = 1.91 # [e/ADU]\n",
    "        \n",
    "        self.bias_std = 1.3 # [e] photoelectrons\n",
    "        self.median_bias = pickle.load(open('output_files/median_bias.p', 'rb'))\n",
    "        self.median_bias_errors = pickle.load(open('output_files/median_bias_error.p', 'rb'))\n",
    "        # put the value here if you decided to use a constant value\n",
    "        self.median_normalized_flat = pickle.load(open('output_files/median_normalized_flat.p', 'rb'))\n",
    "        self.median_normalized_flat_errors = pickle.load(open('output_files/median_normalized_flat_errors.p', 'rb'))\n",
    "        \n",
    "        self.science_path = '../data/'\n",
    "        self.science_list = np.genfromtxt(self.science_path + 'data.list', dtype=str)\n",
    "        self.science_size = len(self.science_list)\n",
    "        \n",
    "        ylen, xlen  = np.shape(self.median_bias)\n",
    "        X_axis = np.arange(0, xlen, 1)\n",
    "        Y_axis = np.arange(0, ylen, 1)\n",
    "        self.X, self.Y = np.meshgrid(X_axis, Y_axis)\n",
    "\n",
    "    #---------------------------------------------------------------------------------------------------\n",
    "    # 1)\n",
    "    def correct_science_frame(self, science_frame):\n",
    "        science_debiased = science_frame - self.median_bias\n",
    "        science_corrected = science_debiased / self.median_normalized_flat\n",
    "\n",
    "        ## Error associated to the science corrected frame\n",
    "        science_debiased_errors = np.sqrt(self.readout_noise**2 + self.bias_std**2 + science_debiased)\n",
    "        science_corrected_errors = science_corrected * np.sqrt((science_debiased_errors/science_debiased)**2 + (self.median_normalized_flat_errors/self.median_normalized_flat)**2)\n",
    "        \n",
    "        return science_corrected, science_corrected_errors\n",
    "    \n",
    "    # 2)\n",
    "    def compute_centroid(self, science_frame, x_target_initial, y_target_initial, maximum_number_of_iterations=20):\n",
    "\n",
    "        for i_iter in range(0, maximum_number_of_iterations):\n",
    "\n",
    "            if i_iter == 0:\n",
    "                # first iteration\n",
    "                x_target_previous = x_target_initial\n",
    "                y_target_previous = y_target_initial\n",
    "            else:\n",
    "                # using the previous result as starting point\n",
    "                x_target_previous = x_target_refined\n",
    "                y_target_previous = y_target_refined\n",
    "\n",
    "            # 2D array with the distance of each pixel from the target star \n",
    "            target_distance = np.sqrt((self.X-x_target_previous)**2 + (self.Y-y_target_previous)**2)\n",
    "\n",
    "            # Selection of the pixels within the inner radius\n",
    "            annulus_sel = (target_distance < self.sky_inner_radius)\n",
    "\n",
    "            # Weighted sum of coordinates\n",
    "            weighted_X = np.sum(science_frame[annulus_sel]*self.X[annulus_sel])\n",
    "            weighted_Y = np.sum(science_frame[annulus_sel]*self.Y[annulus_sel])\n",
    "\n",
    "            # Sum of the weights\n",
    "            total_flux = np.sum(science_frame[annulus_sel])\n",
    "\n",
    "\n",
    "            # Refined determination of coordinates\n",
    "            x_target_refined = weighted_X/total_flux\n",
    "            y_target_refined = weighted_Y/total_flux\n",
    "\n",
    "            percent_variance_x = (x_target_refined-x_target_previous)/(x_target_previous) * 100.\n",
    "            percent_variance_y = (y_target_refined-y_target_previous)/(y_target_previous) * 100.\n",
    "            # exit condition: both percent variance are smaller than 0.1%\n",
    "            if np.abs(percent_variance_x)<0.1 and  np.abs(percent_variance_y)<0.1:\n",
    "                  break\n",
    "\n",
    "        return x_target_refined, y_target_refined\n",
    "    \n",
    "    # 4)\n",
    "    def compute_sky_background(self, science_frame, science_frame_err, x_pos, y_pos):\n",
    "        target_distance = np.sqrt((self.X-x_pos)**2 + (self.Y-y_pos)**2)\n",
    "\n",
    "        annulus_selection = (target_distance > self.sky_inner_radius) & (target_distance<=self.sky_outer_radius)\n",
    "\n",
    "        sky_flux_average = np.sum(science_frame[annulus_selection]) / np.sum(annulus_selection)\n",
    "        sky_flux_err_average = np.sum(science_frame_err[annulus_selection])/np.sum(annulus_selection)\n",
    "        return sky_flux_average, sky_flux_err_average\n",
    "    \n",
    "    # --------------------------------------------------------------------------------------------------------------------------\n",
    "    # Final Function for aperture photometry\n",
    "    def aperture_photometry(self, sky_inner_radius, sky_outer_radius, aperture_radius, x_initial, y_initial):\n",
    "        self.airmass = np.empty(self.science_size)\n",
    "        self.exptime = np.empty(self.science_size)\n",
    "        self.julian_date = np.empty(self.science_size)\n",
    "\n",
    "        self.sky_inner_radius = sky_inner_radius \n",
    "        self.sky_outer_radius = sky_outer_radius \n",
    "        self.aperture_radius = aperture_radius \n",
    "        self.x_initial = x_initial\n",
    "        self.y_initial = y_initial\n",
    "\n",
    "        self.aperture = np.empty(self.science_size)\n",
    "        self.aperture_errors = np.empty(self.science_size)\n",
    "        self.sky_background = np.empty(self.science_size)\n",
    "        self.sky_background_errors = np.empty(self.science_size)\n",
    "        \n",
    "        for ii_science, science_name in enumerate(self.science_list):\n",
    "            science_fits = fits.open(self.science_path + science_name)\n",
    "            \n",
    "            #You must read the info from the header before closing the file\n",
    "            self.airmass[ii_science] = science_fits[0].header['AIRMASS']\n",
    "            self.exptime[ii_science] = science_fits[0].header['EXPTIME']\n",
    "            self.julian_date[ii_science] = science_fits[0].header['JD']\n",
    "            \n",
    "            science_data = science_fits[0].data * self.gain # save the data from the first HDU \n",
    "            science_fits.close()\n",
    "\n",
    "            # 1) step\n",
    "            science_corrected, science_corrected_errors = self.correct_science_frame(science_data)\n",
    "\n",
    "            #2) step\n",
    "            x_refined, y_refined = self.compute_centroid(science_corrected,  self.x_initial, self.y_initial)\n",
    "            \n",
    "            #3) step\n",
    "            self.sky_background[ii_science], self.sky_background_errors[ii_science] = self.compute_sky_background(science_frame=science_corrected,\n",
    "                                                                                                                  science_frame_err=science_corrected_errors,\n",
    "                                                                                                                  x_pos=x_refined, y_pos=y_refined)\n",
    "\n",
    "            science_sky_corrected = science_corrected- self.sky_background[ii_science]\n",
    "            science_sky_corrected_errors = np.sqrt(science_corrected_errors**2. + self.sky_background_errors[ii_science]**2.)\n",
    "            \n",
    "\n",
    "            target_distance = np.sqrt((self.X-x_refined)**2 + (self.Y-y_refined)**2)\n",
    "            aperture_selection = (target_distance < self.aperture_radius)\n",
    "            self.aperture[ii_science] =  np.sum(science_sky_corrected[aperture_selection])\n",
    "            self.aperture_errors[ii_science] = np.sum(science_sky_corrected_errors[aperture_selection]) #da controllare\n",
    "            \n",
    "    \n",
    "\n",
    "            \n",
    "\n",
    "    \n"
   ]
  },
  {
   "cell_type": "markdown",
   "id": "53f7f031-629e-4963-8af0-a8cfe606b96b",
   "metadata": {},
   "source": [
    "### Aperture photometry for your target and reference(s) stars\n",
    "Below, you can see a **very basic** example of how to obtain the aperture photometry for your target star, one reference star, and compute the differential photometry\n",
    "\n",
    "**HOMEWORK** \\\n",
    "You will need to convert JD to BJT_TDB!! You need to do it only for the JD array of the target star (the reference star will share the same time array), as we are interested in precise timing of the exoplanetary signal. You can perform the conversion by using the same script as in lecture 03 *science analysis*.\n",
    "\n",
    "When your Object is completed and working, save it into a .py file and recall it in a new Jupyter Notebook to perform your final analysis of the TASTE dataset\n",
    "\n"
   ]
  },
  {
   "cell_type": "code",
   "execution_count": 37,
   "id": "c83e56ba-5bb5-4c3b-a5a0-fb28d50e9894",
   "metadata": {},
   "outputs": [
    {
     "name": "stderr",
     "output_type": "stream",
     "text": [
      "/tmp/ipykernel_12894/4187767869.py:28: RuntimeWarning: divide by zero encountered in divide\n",
      "  science_corrected = science_debiased / self.median_normalized_flat\n",
      "/tmp/ipykernel_12894/4187767869.py:28: RuntimeWarning: invalid value encountered in divide\n",
      "  science_corrected = science_debiased / self.median_normalized_flat\n",
      "/tmp/ipykernel_12894/4187767869.py:32: RuntimeWarning: divide by zero encountered in divide\n",
      "  science_corrected_errors = science_corrected * np.sqrt((science_debiased_errors/science_debiased)**2 + (self.median_normalized_flat_errors/self.median_normalized_flat)**2)\n",
      "/tmp/ipykernel_12894/4187767869.py:32: RuntimeWarning: invalid value encountered in multiply\n",
      "  science_corrected_errors = science_corrected * np.sqrt((science_debiased_errors/science_debiased)**2 + (self.median_normalized_flat_errors/self.median_normalized_flat)**2)\n"
     ]
    },
    {
     "name": "stdout",
     "output_type": "stream",
     "text": [
      "elapsed_time= 113.41324663162231\n"
     ]
    }
   ],
   "source": [
    "from time import time\n",
    "t0 = time()\n",
    "target_star = TemporaryAperturePhotometry()\n",
    "#first approach:\n",
    "#target_star.provide_aperture_parameters(13, 18, 8, 258, 57)\n",
    "\n",
    "#but we used the second :)\n",
    "target_star.aperture_photometry(sky_inner_radius=13, sky_outer_radius=18, aperture_radius=8, x_initial=357.5, y_initial=37.6)\n",
    "t1 = time()\n",
    "print('elapsed_time=', t1-t0)"
   ]
  },
  {
   "cell_type": "code",
   "execution_count": 39,
   "id": "c72f5364-24e8-4d80-97d0-e9274857bc8a",
   "metadata": {
    "tags": []
   },
   "outputs": [
    {
     "name": "stderr",
     "output_type": "stream",
     "text": [
      "/tmp/ipykernel_12894/4187767869.py:28: RuntimeWarning: divide by zero encountered in divide\n",
      "  science_corrected = science_debiased / self.median_normalized_flat\n",
      "/tmp/ipykernel_12894/4187767869.py:28: RuntimeWarning: invalid value encountered in divide\n",
      "  science_corrected = science_debiased / self.median_normalized_flat\n",
      "/tmp/ipykernel_12894/4187767869.py:32: RuntimeWarning: divide by zero encountered in divide\n",
      "  science_corrected_errors = science_corrected * np.sqrt((science_debiased_errors/science_debiased)**2 + (self.median_normalized_flat_errors/self.median_normalized_flat)**2)\n",
      "/tmp/ipykernel_12894/4187767869.py:32: RuntimeWarning: invalid value encountered in multiply\n",
      "  science_corrected_errors = science_corrected * np.sqrt((science_debiased_errors/science_debiased)**2 + (self.median_normalized_flat_errors/self.median_normalized_flat)**2)\n"
     ]
    },
    {
     "name": "stdout",
     "output_type": "stream",
     "text": [
      "elapsed_time= 66.55099654197693\n"
     ]
    }
   ],
   "source": [
    "from time import time\n",
    "t0 = time()\n",
    "reference_star = TemporaryAperturePhotometry()\n",
    "#reference_star.provide_aperture_parameters(13, 18, 8, 183, 70)\n",
    "reference_star.aperture_photometry(sky_inner_radius=13, sky_outer_radius=18, aperture_radius=8, x_initial=471.5, y_initial=91.0)\n",
    "t1 = time()\n",
    "print('elapsed_time=', t1-t0)"
   ]
  },
  {
   "cell_type": "code",
   "execution_count": 40,
   "id": "6886f9ac-a1a8-4e14-b2b1-9e2f639e8405",
   "metadata": {
    "tags": []
   },
   "outputs": [
    {
     "data": {
      "application/vnd.jupyter.widget-view+json": {
       "model_id": "938409ba1c1c42e689b4340b67b2cbac",
       "version_major": 2,
       "version_minor": 0
      },
      "image/png": "[encoded data removed]",
      "text/html": [
       "\n",
       "            <div style=\"display: inline-block;\">\n",
       "                <div class=\"jupyter-widgets widget-label\" style=\"text-align: center;\">\n",
       "                    Figure\n",
       "                </div>\n",
       "                <img src='data:image/png;base64,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' width=640.0/>\n",
       "            </div>\n",
       "        "
      ],
      "text/plain": [
       "Canvas(toolbar=Toolbar(toolitems=[('Home', 'Reset original view', 'home', 'home'), ('Back', 'Back to previous …"
      ]
     },
     "metadata": {},
     "output_type": "display_data"
    }
   ],
   "source": [
    "plt.figure()\n",
    "plt.scatter(target_star.julian_date, target_star.aperture/reference_star.aperture, s=2)\n",
    "plt.show()"
   ]
  },
  {
   "cell_type": "code",
   "execution_count": null,
   "id": "5cddc7c7-0fa8-43fc-a96e-1a43b28bbb33",
   "metadata": {},
   "outputs": [],
   "source": []
  }
 ],
 "metadata": {
  "kernelspec": {
   "display_name": "Python 3 (ipykernel)",
   "language": "python",
   "name": "python3"
  },
  "language_info": {
   "codemirror_mode": {
    "name": "ipython",
    "version": 3
   },
   "file_extension": ".py",
   "mimetype": "text/x-python",
   "name": "python",
   "nbconvert_exporter": "python",
   "pygments_lexer": "ipython3",
   "version": "3.9.18"
  }
 },
 "nbformat": 4,
 "nbformat_minor": 5
}
